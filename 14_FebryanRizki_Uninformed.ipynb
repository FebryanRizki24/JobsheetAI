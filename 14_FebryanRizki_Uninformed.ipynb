{
  "nbformat": 4,
  "nbformat_minor": 0,
  "metadata": {
    "colab": {
      "provenance": [],
      "collapsed_sections": [],
      "authorship_tag": "ABX9TyOuE5ugibVJPQNUbzLA5SOv",
      "include_colab_link": true
    },
    "kernelspec": {
      "name": "python3",
      "display_name": "Python 3"
    },
    "language_info": {
      "name": "python"
    }
  },
  "cells": [
    {
      "cell_type": "markdown",
      "metadata": {
        "id": "view-in-github",
        "colab_type": "text"
      },
      "source": [
        "<a href=\"https://colab.research.google.com/github/FebryanRizki24/JobsheetAI/blob/main/14_FebryanRizki_Uninformed.ipynb\" target=\"_parent\"><img src=\"https://colab.research.google.com/assets/colab-badge.svg\" alt=\"Open In Colab\"/></a>"
      ]
    },
    {
      "cell_type": "code",
      "execution_count": null,
      "metadata": {
        "id": "PRXIjCPh3bvr"
      },
      "outputs": [],
      "source": [
        "graph = {\n",
        "    'A' : ['B','C'],\n",
        "    'B' : ['D','E'],\n",
        "    'C' : ['F'],\n",
        "    'D' : [],\n",
        "    'E' : ['F','G'],\n",
        "    'F' : ['H'],\n",
        "    'G' : ['H'],\n",
        "    'H' : ['G']\n",
        "}"
      ]
    },
    {
      "cell_type": "code",
      "source": [
        "visited = [] #List to keep track of visited nodes.\n",
        "queue = [] #Initialize a queue"
      ],
      "metadata": {
        "id": "QNTZvLA_9cJ3"
      },
      "execution_count": null,
      "outputs": []
    },
    {
      "cell_type": "code",
      "source": [
        "def bfs(visited, graph, node):\n",
        "  visited.append(node)\n",
        "  queue.append(node)\n",
        "\n",
        "  while queue:\n",
        "    s = queue.pop(0)\n",
        "    print (s, end = \" \")\n",
        "\n",
        "    for neighbour in graph[s]:\n",
        "      if neighbour not in visited:\n",
        "        visited.append(neighbour)\n",
        "        queue.append(neighbour)"
      ],
      "metadata": {
        "id": "4QfgzQbu9rhv"
      },
      "execution_count": null,
      "outputs": []
    },
    {
      "cell_type": "code",
      "source": [
        "print(\"Hasil penulusuran graf menggunakan BFS:\")\n",
        "bfs(visited, graph, 'A')"
      ],
      "metadata": {
        "colab": {
          "base_uri": "https://localhost:8080/"
        },
        "id": "tQU7FKQ5-OPy",
        "outputId": "867e291e-ed13-4fea-f312-3a5ac171f58a"
      },
      "execution_count": null,
      "outputs": [
        {
          "output_type": "stream",
          "name": "stdout",
          "text": [
            "Hasil penulusuran graf menggunakan BFS:\n",
            "A B C D E F G H "
          ]
        }
      ]
    },
    {
      "cell_type": "code",
      "source": [
        "graph = {\n",
        "    'A' : ['B','C'],\n",
        "    'B' : ['A','D'],\n",
        "    'C' : ['A','F'],\n",
        "    'D' : ['B'],\n",
        "    'E' : ['F'],\n",
        "    'F' : ['C','E','H'],\n",
        "    'G' : ['H'],\n",
        "    'H' : ['G']\n",
        "}\n",
        "\n",
        "visited = [] #List to keep track of visited nodes.\n",
        "queue = [] #Initialize a queue\n",
        "\n",
        "def bfs(visited, graph, node):\n",
        "  visited.append(node)\n",
        "  queue.append(node)\n",
        "\n",
        "  while queue:\n",
        "    s = queue.pop(0)\n",
        "    print (s, end = \" \")\n",
        "\n",
        "    for neighbour in graph[s]:\n",
        "      if neighbour not in visited:\n",
        "        visited.append(neighbour)\n",
        "        queue.append(neighbour)\n",
        "\n",
        "print(\"Hasil penulusuran graf menggunakan BFS:\")\n",
        "bfs(visited, graph, 'A')"
      ],
      "metadata": {
        "colab": {
          "base_uri": "https://localhost:8080/"
        },
        "id": "fWPDFrq-XkT-",
        "outputId": "d3c767ed-7b2f-43b3-ab3e-3e4d8254de76"
      },
      "execution_count": null,
      "outputs": [
        {
          "output_type": "stream",
          "name": "stdout",
          "text": [
            "Hasil penulusuran graf menggunakan BFS:\n",
            "A B C D F E H G "
          ]
        }
      ]
    },
    {
      "cell_type": "code",
      "source": [
        "graph = {\n",
        "    'A' : ['B','C'],\n",
        "    'B' : ['C','D','E'],\n",
        "    'C' : ['F'],\n",
        "    'D' : [],\n",
        "    'E' : ['F'],\n",
        "    'F' : ['H'],\n",
        "    'G' : ['H'],\n",
        "    'H' : ['G']\n",
        "}\n",
        "\n",
        "visited = set()\n",
        "\n",
        "def dfs(visited, graph, node):\n",
        "  if node not in visited:\n",
        "    print(node)\n",
        "    visited.add(node)\n",
        "    for neighbour in graph[node]:\n",
        "      dfs(visited, graph, neighbour)\n",
        "      \n",
        "print(\"Hasil penulusuran graf menggunakan DFS:\")\n",
        "dfs(visited, graph, 'A')"
      ],
      "metadata": {
        "colab": {
          "base_uri": "https://localhost:8080/"
        },
        "id": "_awJZjAoAe4i",
        "outputId": "170aa89a-8c96-4097-a86c-f26dfd2e0ca9"
      },
      "execution_count": null,
      "outputs": [
        {
          "output_type": "stream",
          "name": "stdout",
          "text": [
            "Hasil penulusuran graf menggunakan DFS:\n",
            "A\n",
            "B\n",
            "C\n",
            "F\n",
            "H\n",
            "G\n",
            "D\n",
            "E\n"
          ]
        }
      ]
    },
    {
      "cell_type": "code",
      "source": [
        "graph = {\n",
        "    'A' : ['B','C'],\n",
        "    'B' : ['C','D','E'],\n",
        "    'C' : ['F'],\n",
        "    'D' : [],\n",
        "    'E' : ['F'],\n",
        "    'F' : ['H'],\n",
        "    'G' : ['H'],\n",
        "    'H' : ['G']\n",
        "}\n",
        "\n",
        "visited = set()\n",
        "\n",
        "def dfs(visited, graph, node):\n",
        "  if node not in visited:\n",
        "    print(node)\n",
        "    visited.add(node)\n",
        "    for neighbour in graph[node]:\n",
        "      dfs(visited, graph, neighbour)\n",
        "      \n",
        "print(\"Hasil penulusuran graf menggunakan DFS:\")\n",
        "dfs(visited, graph, 'A')"
      ],
      "metadata": {
        "colab": {
          "base_uri": "https://localhost:8080/"
        },
        "id": "r33pVdvrYklW",
        "outputId": "c936a513-97ad-4770-ac3c-1fbe83a030ab"
      },
      "execution_count": null,
      "outputs": [
        {
          "output_type": "stream",
          "name": "stdout",
          "text": [
            "Hasil penulusuran graf menggunakan DFS:\n",
            "A\n",
            "B\n",
            "C\n",
            "F\n",
            "H\n",
            "G\n",
            "D\n",
            "E\n"
          ]
        }
      ]
    },
    {
      "cell_type": "code",
      "source": [
        "#praktikum 1\n",
        "#BFS\n",
        "graph = {\n",
        "    'A' : ['B','E','F'],\n",
        "    'B' : ['A','F','G'],\n",
        "    'C' : ['D','G'],\n",
        "    'D' : ['C','H'],\n",
        "    'E' : ['A','F'],\n",
        "    'F' : ['A','B','E'],\n",
        "    'G' : ['B','C','H'],\n",
        "    'H' : ['D','G']\n",
        "}\n",
        "\n",
        "visited = []\n",
        "queue = []\n",
        "\n",
        "def bfs(visited, graph, node):\n",
        "  visited.append(node)\n",
        "  queue.append(node)\n",
        "\n",
        "  while queue:\n",
        "    s = queue.pop(0)\n",
        "    print (s, end = \" \")\n",
        "\n",
        "    for neighbour in graph[s]:\n",
        "      if neighbour not in visited:\n",
        "        visited.append(neighbour)\n",
        "        queue.append(neighbour)\n",
        "\n",
        "print(\"Hasil penulusuran graf menggunakan BFS:\")\n",
        "bfs(visited, graph, 'A')"
      ],
      "metadata": {
        "colab": {
          "base_uri": "https://localhost:8080/"
        },
        "id": "zlEq7azLCEgz",
        "outputId": "87ec6ce4-5406-452f-b744-65f0970caa08"
      },
      "execution_count": null,
      "outputs": [
        {
          "output_type": "stream",
          "name": "stdout",
          "text": [
            "Hasil penulusuran graf menggunakan BFS:\n",
            "A B E F G C H D "
          ]
        }
      ]
    },
    {
      "cell_type": "code",
      "source": [
        "#DFS\n",
        "graph = {\n",
        "    'A' : ['B','E','F'],\n",
        "    'B' : ['A','F','G'],\n",
        "    'C' : ['D','G'],\n",
        "    'D' : ['C','H'],\n",
        "    'E' : ['A','F'],\n",
        "    'F' : ['A','B','E'],\n",
        "    'G' : ['B','C','H'],\n",
        "    'H' : ['D','G']\n",
        "}\n",
        "\n",
        "visited = set()\n",
        "\n",
        "def dfs(visited, graph, node):\n",
        "  if node not in visited:\n",
        "    print(node)\n",
        "    visited.add(node)\n",
        "    for neighbour in graph[node]:\n",
        "      dfs(visited, graph, neighbour)\n",
        "      \n",
        "print(\"Hasil penulusuran graf menggunakan DFS:\")\n",
        "dfs(visited, graph, 'A')"
      ],
      "metadata": {
        "colab": {
          "base_uri": "https://localhost:8080/"
        },
        "id": "8QLfy3FREVfN",
        "outputId": "287d3cb0-c2ae-44d6-845c-6ff846e12f40"
      },
      "execution_count": null,
      "outputs": [
        {
          "output_type": "stream",
          "name": "stdout",
          "text": [
            "Hasil penulusuran graf menggunakan DFS:\n",
            "A\n",
            "B\n",
            "F\n",
            "E\n",
            "G\n",
            "C\n",
            "D\n",
            "H\n"
          ]
        }
      ]
    },
    {
      "cell_type": "code",
      "source": [
        "#praktikum 2\n",
        "#BFS\n",
        "graph = {\n",
        "    'A' : ['B'],\n",
        "    'B' : ['A','F','G'],\n",
        "    'C' : ['D','G'],\n",
        "    'D' : ['C','H'],\n",
        "    'E' : ['F'],\n",
        "    'F' : ['B','E'],\n",
        "    'G' : ['B','C'],\n",
        "    'H' : ['D']\n",
        "}\n",
        "\n",
        "visited = []\n",
        "queue = []\n",
        "\n",
        "def bfs(visited, graph, node):\n",
        "  visited.append(node)\n",
        "  queue.append(node)\n",
        "\n",
        "  while queue:\n",
        "    s = queue.pop(0)\n",
        "    print (s, end = \" \")\n",
        "    if s == 'D':\n",
        "      break\n",
        "\n",
        "    for neighbour in graph[s]:\n",
        "      if neighbour not in visited:\n",
        "        visited.append(neighbour)\n",
        "        queue.append(neighbour)\n",
        "\n",
        "print(\"Hasil penulusuran graf menggunakan BFS:\")\n",
        "bfs(visited, graph, 'A')"
      ],
      "metadata": {
        "colab": {
          "base_uri": "https://localhost:8080/"
        },
        "id": "-7CZqJezGhLo",
        "outputId": "9cc0d68e-71b2-4e53-a7fd-f783f48e8594"
      },
      "execution_count": null,
      "outputs": [
        {
          "output_type": "stream",
          "name": "stdout",
          "text": [
            "Hasil penulusuran graf menggunakan BFS:\n",
            "A B F G E C D "
          ]
        }
      ]
    },
    {
      "cell_type": "code",
      "source": [
        "graph = {\n",
        "    'A' : ['B'],\n",
        "    'B' : ['A','F','G'],\n",
        "    'C' : ['D','G'],\n",
        "    'D' : ['C','H'],\n",
        "    'E' : ['F'],\n",
        "    'F' : ['B','E'],\n",
        "    'G' : ['B','C'],\n",
        "    'H' : ['D']\n",
        "}\n",
        "\n",
        "visited = set()\n",
        "\n",
        "def dfs(visited, graph, node):\n",
        "  if node not in visited:\n",
        "    print(node)\n",
        "    visited.add(node)\n",
        "    for neighbour in graph[node]:\n",
        "      dfs(visited, graph, neighbour)\n",
        "      if node == 'D':\n",
        "        break\n",
        "      \n",
        "print(\"Hasil penulusuran graf menggunakan DFS:\")\n",
        "dfs(visited, graph, 'A')"
      ],
      "metadata": {
        "colab": {
          "base_uri": "https://localhost:8080/"
        },
        "id": "cKMGqIeCG8zk",
        "outputId": "8501f204-d72e-4a14-8fc7-bdd6bde4fa8c"
      },
      "execution_count": null,
      "outputs": [
        {
          "output_type": "stream",
          "name": "stdout",
          "text": [
            "Hasil penulusuran graf menggunakan DFS:\n",
            "A\n",
            "B\n",
            "F\n",
            "E\n",
            "G\n",
            "C\n",
            "D\n"
          ]
        }
      ]
    }
  ]
}